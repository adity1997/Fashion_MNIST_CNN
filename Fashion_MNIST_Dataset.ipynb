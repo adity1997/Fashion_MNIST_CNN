{
  "nbformat": 4,
  "nbformat_minor": 0,
  "metadata": {
    "colab": {
      "provenance": [],
      "authorship_tag": "ABX9TyOHSgbXG1HzO5+y+VcBtzXk",
      "include_colab_link": true
    },
    "kernelspec": {
      "name": "python3",
      "display_name": "Python 3"
    },
    "language_info": {
      "name": "python"
    }
  },
  "cells": [
    {
      "cell_type": "markdown",
      "metadata": {
        "id": "view-in-github",
        "colab_type": "text"
      },
      "source": [
        "<a href=\"https://colab.research.google.com/github/adity1997/Fashion_MNIST_CNN/blob/main/Fashion_MNIST_Dataset.ipynb\" target=\"_parent\"><img src=\"https://colab.research.google.com/assets/colab-badge.svg\" alt=\"Open In Colab\"/></a>"
      ]
    },
    {
      "cell_type": "code",
      "execution_count": null,
      "metadata": {
        "id": "y2S1HzZwFQiW"
      },
      "outputs": [],
      "source": [
        "import numpy as np\n",
        "import matplotlib.pyplot as plt\n",
        "import tensorflow as tf"
      ]
    },
    {
      "cell_type": "code",
      "source": [
        "#For functional API not using sequintial but also we can try sequential so we can create both models, just getting hang at both the models syntax\n",
        "from tensorflow.keras.layers import Input, Conv2D, Dense, Flatten, Dropout\n",
        "from tensorflow.keras.models import Model"
      ],
      "metadata": {
        "id": "oIEhL3-zF-lH"
      },
      "execution_count": null,
      "outputs": []
    },
    {
      "cell_type": "code",
      "source": [
        "#Loading Dataset\n",
        "fashion_mnist = tf.keras.datasets.fashion_mnist\n",
        "(x_train,y_train), (x_test,y_test) = fashion_mnist.load_data()"
      ],
      "metadata": {
        "id": "rotbg8DLGr2w"
      },
      "execution_count": null,
      "outputs": []
    },
    {
      "cell_type": "code",
      "source": [
        "x_train, x_test = x_train/255.0 , x_test/255.0\n",
        "print(\"x_train.shape:\", x_train.shape)"
      ],
      "metadata": {
        "colab": {
          "base_uri": "https://localhost:8080/"
        },
        "id": "Iywsu2uYLaLA",
        "outputId": "253da5c3-5ce9-4209-bff4-46258fb4a34c"
      },
      "execution_count": null,
      "outputs": [
        {
          "output_type": "stream",
          "name": "stdout",
          "text": [
            "x_train.shape: (60000, 28, 28)\n"
          ]
        }
      ]
    },
    {
      "cell_type": "code",
      "source": [
        "#Changing the dimensions of x_train and x_test as the model takes 3-D inputs\n",
        "x_train = np.expand_dims(x_train,-1)\n",
        "x_test = np.expand_dims(x_test,-1)\n",
        "print(x_train.shape)"
      ],
      "metadata": {
        "colab": {
          "base_uri": "https://localhost:8080/"
        },
        "id": "xwCrTaYgL6sE",
        "outputId": "06b303b8-dc1a-4e54-f3cb-e7c4614782e3"
      },
      "execution_count": null,
      "outputs": [
        {
          "output_type": "stream",
          "name": "stdout",
          "text": [
            "(60000, 28, 28, 1)\n"
          ]
        }
      ]
    },
    {
      "cell_type": "code",
      "source": [
        "#No. feattures\n",
        "K = len(set(y_train))\n",
        "print(f\"Number of Classes:{K}\")"
      ],
      "metadata": {
        "colab": {
          "base_uri": "https://localhost:8080/"
        },
        "id": "gychTyjiBa-6",
        "outputId": "7dafb6c3-7fc1-4188-85f1-cfec0e210579"
      },
      "execution_count": null,
      "outputs": [
        {
          "output_type": "stream",
          "name": "stdout",
          "text": [
            "Number of Classes:10\n"
          ]
        }
      ]
    },
    {
      "cell_type": "code",
      "source": [
        "#Models\n",
        "i = Input(shape=x_train[0].shape)\n",
        "x = Conv2D(32, (3,3), strides=2, activation='relu')(i)\n",
        "x = Conv2D(64, (3,3), strides=2, activation='relu')(x)\n",
        "x = Conv2D(128, (3,3), strides=2, activation='relu')(x)\n",
        "x = Flatten()(x)\n",
        "x = Dropout(0.2)(x)\n",
        "x = Dense(512, activation='relu')(x)\n",
        "x = Dense(K, activation='softmax')(x)\n",
        "\n",
        "model = Model(i, x)"
      ],
      "metadata": {
        "id": "Y4qPQSf1CYry"
      },
      "execution_count": null,
      "outputs": []
    },
    {
      "cell_type": "code",
      "source": [
        "#Compile and Fit\n",
        "model.compile(optimizer='adam',loss='SparseCategoricalCrossentropy', metrics=['accuracy'])\n",
        "r = model.fit(x_train, y_train,validation_data=(x_test,y_test), epochs = 15)"
      ],
      "metadata": {
        "colab": {
          "base_uri": "https://localhost:8080/"
        },
        "id": "46xMp_A6DpKV",
        "outputId": "5749ce78-3abf-444c-bf7c-d5fbca784a7d"
      },
      "execution_count": null,
      "outputs": [
        {
          "output_type": "stream",
          "name": "stdout",
          "text": [
            "Epoch 1/15\n",
            "1875/1875 [==============================] - 36s 19ms/step - loss: 0.5119 - accuracy: 0.8090 - val_loss: 0.4232 - val_accuracy: 0.8406\n",
            "Epoch 2/15\n",
            "1875/1875 [==============================] - 33s 17ms/step - loss: 0.3537 - accuracy: 0.8689 - val_loss: 0.3670 - val_accuracy: 0.8684\n",
            "Epoch 3/15\n",
            "1875/1875 [==============================] - 34s 18ms/step - loss: 0.3047 - accuracy: 0.8853 - val_loss: 0.3275 - val_accuracy: 0.8794\n",
            "Epoch 4/15\n",
            "1875/1875 [==============================] - 33s 17ms/step - loss: 0.2697 - accuracy: 0.8984 - val_loss: 0.2920 - val_accuracy: 0.8930\n",
            "Epoch 5/15\n",
            "1875/1875 [==============================] - 33s 18ms/step - loss: 0.2441 - accuracy: 0.9072 - val_loss: 0.3114 - val_accuracy: 0.8844\n",
            "Epoch 6/15\n",
            "1875/1875 [==============================] - 33s 18ms/step - loss: 0.2212 - accuracy: 0.9163 - val_loss: 0.2955 - val_accuracy: 0.8990\n",
            "Epoch 7/15\n",
            "1875/1875 [==============================] - 34s 18ms/step - loss: 0.2046 - accuracy: 0.9217 - val_loss: 0.3066 - val_accuracy: 0.8903\n",
            "Epoch 8/15\n",
            "1875/1875 [==============================] - 34s 18ms/step - loss: 0.1878 - accuracy: 0.9269 - val_loss: 0.2935 - val_accuracy: 0.9002\n",
            "Epoch 9/15\n",
            "1875/1875 [==============================] - 33s 17ms/step - loss: 0.1740 - accuracy: 0.9340 - val_loss: 0.2976 - val_accuracy: 0.9040\n",
            "Epoch 10/15\n",
            "1875/1875 [==============================] - 35s 19ms/step - loss: 0.1587 - accuracy: 0.9390 - val_loss: 0.3319 - val_accuracy: 0.8966\n",
            "Epoch 11/15\n",
            "1875/1875 [==============================] - 32s 17ms/step - loss: 0.1466 - accuracy: 0.9428 - val_loss: 0.3397 - val_accuracy: 0.8949\n",
            "Epoch 12/15\n",
            "1875/1875 [==============================] - 34s 18ms/step - loss: 0.1367 - accuracy: 0.9479 - val_loss: 0.3342 - val_accuracy: 0.8962\n",
            "Epoch 13/15\n",
            "1875/1875 [==============================] - 32s 17ms/step - loss: 0.1292 - accuracy: 0.9511 - val_loss: 0.3537 - val_accuracy: 0.9000\n",
            "Epoch 14/15\n",
            "1875/1875 [==============================] - 34s 18ms/step - loss: 0.1213 - accuracy: 0.9531 - val_loss: 0.3820 - val_accuracy: 0.8956\n",
            "Epoch 15/15\n",
            "1875/1875 [==============================] - 32s 17ms/step - loss: 0.1123 - accuracy: 0.9566 - val_loss: 0.3728 - val_accuracy: 0.8989\n"
          ]
        }
      ]
    },
    {
      "cell_type": "code",
      "source": [],
      "metadata": {
        "id": "YzJybrxvEYpL"
      },
      "execution_count": null,
      "outputs": []
    }
  ]
}